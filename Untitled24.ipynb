{
  "nbformat": 4,
  "nbformat_minor": 0,
  "metadata": {
    "colab": {
      "provenance": [],
      "authorship_tag": "ABX9TyOJ0LKyqe67ysXvrSQjCsaG",
      "include_colab_link": true
    },
    "kernelspec": {
      "name": "python3",
      "display_name": "Python 3"
    },
    "language_info": {
      "name": "python"
    }
  },
  "cells": [
    {
      "cell_type": "markdown",
      "metadata": {
        "id": "view-in-github",
        "colab_type": "text"
      },
      "source": [
        "<a href=\"https://colab.research.google.com/github/nikotamajapan/silicon-valley-coding/blob/main/Untitled24.ipynb\" target=\"_parent\"><img src=\"https://colab.research.google.com/assets/colab-badge.svg\" alt=\"Open In Colab\"/></a>"
      ]
    },
    {
      "cell_type": "markdown",
      "source": [
        "\n",
        "61. 辞書包括表記\n",
        "2分\n",
        "再生\n",
        "62. 集合内包表記\n",
        "1分\n",
        "再生\n",
        "63. ジェネレーター内包表記\n",
        "2分\n",
        "再生\n",
        "64. 名前空間とスコープ\n",
        "6分\n",
        "再生\n",
        "65. 例外処理\n",
        "9分\n",
        "再生\n",
        "66. 独自例外の作成\n",
        "5分"
      ],
      "metadata": {
        "id": "1gXgifZCNn99"
      }
    },
    {
      "cell_type": "code",
      "source": [
        "# 60. リスト内包表記\n",
        "p=(1,2,3,4,5)\n",
        "pp=(6,7,8,9,10)\n",
        "r=[i for i in p if i % 2 == 0]\n",
        "r\n",
        "for i in p:\n",
        "  for j in pp:\n",
        "    r.append(i*j)\n",
        "g=[i*j for i in q for j in pp]\n",
        "g\n"
      ],
      "metadata": {
        "id": "XXhDX6eLNkQ7"
      },
      "execution_count": null,
      "outputs": []
    },
    {
      "cell_type": "code",
      "source": [
        "# 59. ジェネレーター\n",
        "k=['morning','afternoon','night']\n",
        "for i in k:\n",
        "  print(i)\n",
        "print('##########')\n",
        "\n",
        "def greet():\n",
        "  yield 'morning'\n",
        "  yield 'afternoon'\n",
        "  yield 'night'\n",
        "\n",
        "g=greet()\n",
        "print(next(g))\n",
        "print('##########')\n",
        "\n",
        "print(next(g))\n",
        "print('##########')\n",
        "print(next(g))\n"
      ],
      "metadata": {
        "id": "u_Ii2vQW6w0v"
      },
      "execution_count": null,
      "outputs": []
    },
    {
      "cell_type": "code",
      "source": [
        "#58 ramda\n",
        "aa=['mon','tue','wed','thu','fri','sat','sun']\n",
        "def change_words(words, func):\n",
        "  for word in words:\n",
        "    print(func(word))\n",
        "\n",
        "# def sample_func(word):\n",
        "#   return word.capitalize()\n",
        "\n",
        "sample_func = lambda word: word.capitalize() \n",
        "\n",
        "# change_words(aa, sample_func)\n",
        "change_words(aa, lambda word: word.capitalize() )"
      ],
      "metadata": {
        "id": "aiP54roQ491F"
      },
      "execution_count": null,
      "outputs": []
    },
    {
      "cell_type": "code",
      "source": [],
      "metadata": {
        "id": "bv3Uw0wD6wyA"
      },
      "execution_count": null,
      "outputs": []
    }
  ]
}